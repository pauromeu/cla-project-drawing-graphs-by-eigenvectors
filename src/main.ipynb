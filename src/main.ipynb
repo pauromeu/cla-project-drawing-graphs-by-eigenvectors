{
 "cells": [
  {
   "cell_type": "code",
   "execution_count": 1,
   "metadata": {},
   "outputs": [],
   "source": [
    "from graph_plot import *\n",
    "from degree_normalized_eigenvectors import *\n",
    "from graph_class import Graph"
   ]
  },
  {
   "cell_type": "code",
   "execution_count": 2,
   "metadata": {},
   "outputs": [
    {
     "name": "stdout",
     "output_type": "stream",
     "text": [
      "[graph object] nodes = 10240; edges = 30380\n"
     ]
    }
   ],
   "source": [
    "# Adjacency matrix\n",
    "A = np.loadtxt('../data/graph.txt')\n",
    "\n",
    "f = open('../data/crack.graph', \"r\")\n",
    "\n",
    "graph1 = Graph(f)\n",
    "A = graph1.adj_matrix\n",
    "\n",
    "# Degree matrix\n",
    "D = np.diag(A.sum(axis=1))\n",
    "\n",
    "# Laplacian matrix\n",
    "L = D - A\n",
    "print(graph1)"
   ]
  },
  {
   "cell_type": "code",
   "execution_count": 3,
   "metadata": {},
   "outputs": [
    {
     "name": "stdout",
     "output_type": "stream",
     "text": [
      "Warning: Convergence not reached for k = 1\n",
      "[0.01159312 0.00862435 0.02470036 ... 0.00245498 0.00211574 0.00258707] [-0.01927469 -0.00473239 -0.00613781 ...  0.01641395  0.0152482\n",
      "  0.01523566]\n"
     ]
    },
    {
     "data": {
      "image/png": "[encoded data removed]",
      "text/plain": [
       "<Figure size 640x480 with 1 Axes>"
      ]
     },
     "metadata": {},
     "output_type": "display_data"
    }
   ],
   "source": [
    "# Degree normalized eigenvectors\n",
    "U = degree_normalized_eigenvectors(D, A, 2)\n",
    "\n",
    "# 2D graph plot coordinates\n",
    "x_coord = U[:, 0]\n",
    "y_coord = U[:, 1]\n",
    "print(x_coord, y_coord)\n",
    "\n",
    "graph_plot(A, x_coord, y_coord)"
   ]
  },
  {
   "cell_type": "code",
   "execution_count": null,
   "metadata": {},
   "outputs": [],
   "source": []
  }
 ],
 "metadata": {
  "kernelspec": {
   "display_name": "Python 3 (ipykernel)",
   "language": "python",
   "name": "python3"
  },
  "language_info": {
   "codemirror_mode": {
    "name": "ipython",
    "version": 3
   },
   "file_extension": ".py",
   "mimetype": "text/x-python",
   "name": "python",
   "nbconvert_exporter": "python",
   "pygments_lexer": "ipython3",
   "version": "3.10.9"
  },
  "vscode": {
   "interpreter": {
    "hash": "31f2aee4e71d21fbe5cf8b01ff0e069b9275f58929596ceb00d14d90e3e16cd6"
   }
  }
 },
 "nbformat": 4,
 "nbformat_minor": 2
}
