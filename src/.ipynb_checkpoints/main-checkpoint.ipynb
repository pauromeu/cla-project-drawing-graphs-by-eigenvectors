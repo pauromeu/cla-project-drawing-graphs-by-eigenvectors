{
 "cells": [
  {
   "cell_type": "code",
   "execution_count": 1,
   "metadata": {},
   "outputs": [
    {
     "name": "stdout",
     "output_type": "stream",
     "text": [
      "[ 1 -2  3 -4]\n",
      "Computing eigenvector  0 ...\n",
      "Computing eigenvector  1 ...\n",
      "Test results: \n",
      "SVD decomposition of matrix A = \n",
      "[[-0.89907453 -0.70612866  0.15129605  0.17920327 -0.89330021]\n",
      " [-0.70612866  0.49444357  0.00305816  0.06207315 -0.70056966]\n",
      " [ 0.15129605  0.00305816  0.18131065 -0.03636562  0.07569994]\n",
      " [ 0.17920327  0.06207315 -0.03636562  0.1403473   0.05219538]\n",
      " [-0.89330021 -0.70056966  0.07569994  0.05219538 -0.40131679]]\n",
      ":\n",
      "u =  [[-0.72425669 -0.17856284  0.61803559 -0.02710617 -0.24670798]\n",
      " [-0.36796056  0.91018231 -0.11090336  0.07435089  0.13544584]\n",
      " [ 0.07204906 -0.07130585  0.27221371  0.85582904  0.42799621]\n",
      " [ 0.08648817  0.0102534   0.38645579 -0.51088502  0.76293059]\n",
      " [-0.57217655 -0.36673398 -0.61829125  0.01703984  0.3943929 ]]\n",
      "s =  [2.        0.9157102 0.3       0.2       0.1      ]\n",
      "vt =  [[ 0.72425669  0.36796056 -0.07204906 -0.08648817  0.57217655]\n",
      " [-0.17856284  0.91018231 -0.07130585  0.0102534  -0.36673398]\n",
      " [ 0.61803559 -0.11090336  0.27221371  0.38645579 -0.61829125]\n",
      " [-0.02710617  0.07435089  0.85582904 -0.51088502  0.01703984]\n",
      " [-0.24670798  0.13544584  0.42799621  0.76293059  0.3943929 ]]\n",
      "First  2  dominant eigenvectors: \n",
      "[[-0.72425669 -0.17856284]\n",
      " [-0.36796056  0.91018231]\n",
      " [ 0.07204906 -0.07130585]\n",
      " [ 0.08648817  0.0102534 ]\n",
      " [-0.57217655 -0.36673398]]\n",
      "Power method results: \n",
      "[[ 0.72425669 -0.17856284]\n",
      " [ 0.36796056  0.91018231]\n",
      " [-0.07204906 -0.07130585]\n",
      " [-0.08648817  0.0102534 ]\n",
      " [ 0.57217655 -0.36673399]]\n",
      "Quotients power method / SVD: \n",
      "Dominant eigenvalue  1\n",
      "PM results:  -2.000000000000001\n",
      "SVD results  :  -2.000000000000001\n",
      "\n",
      "\n",
      "Dominant eigenvalue  2\n",
      "PM results:  0.915710200504497\n",
      "SVD results  :  0.9157102005044968\n",
      "\n",
      "\n"
     ]
    }
   ],
   "source": [
    "from graph_plot import *\n",
    "from degree_normalized_eigenvectors import *\n",
    "from graph_class import Graph"
   ]
  },
  {
   "cell_type": "code",
   "execution_count": 2,
   "metadata": {},
   "outputs": [
    {
     "name": "stdout",
     "output_type": "stream",
     "text": [
      " 2 5 4\n",
      "\n",
      "[graph object] nodes = 4720; edges = 13722\n"
     ]
    }
   ],
   "source": [
    "# Adjacency matrix\n",
    "A = np.loadtxt('../data/graph.txt')\n",
    "\n",
    "G = Graph()\n",
    "G.set_adj_matrix(A)\n",
    "G.set_degs()\n",
    "# print(G.adj_matrix)\n",
    "# print(G.degs)\n",
    "G.set_laplacian()\n",
    "G.set_adj_list()\n",
    "\n",
    "\n",
    "# print(G.laplacian)\n",
    "\n",
    "# Degree matrix\n",
    "D = np.diag(G.degs)\n",
    "# print(D)\n",
    "\n",
    "# Laplacian matrix\n",
    "L = G.laplacian\n",
    "\n",
    "f = open('../data/3elt.graph')\n",
    "G = Graph(f)\n",
    "print(G)"
   ]
  },
  {
   "cell_type": "code",
   "execution_count": 3,
   "metadata": {
    "scrolled": true
   },
   "outputs": [
    {
     "name": "stdout",
     "output_type": "stream",
     "text": [
      "Finding  1 -th eigenvector...\n",
      "Warning: Convergence not reached for k = 1\n",
      "1 - product =  2.102310947549313e-08\n",
      "Finding  2 -th eigenvector...\n",
      "Warning: Convergence not reached for k = 2\n",
      "1 - product =  4.182217683279532e-09\n"
     ]
    },
    {
     "ename": "AttributeError",
     "evalue": "'function' object has no attribute 'power_method'",
     "output_type": "error",
     "traceback": [
      "\u001b[0;31m---------------------------------------------------------------------------\u001b[0m",
      "\u001b[0;31mAttributeError\u001b[0m                            Traceback (most recent call last)",
      "Cell \u001b[0;32mIn[3], line 5\u001b[0m\n\u001b[1;32m      2\u001b[0m U, times \u001b[38;5;241m=\u001b[39m degree_normalized_eigenvectors(np\u001b[38;5;241m.\u001b[39mdiag(G\u001b[38;5;241m.\u001b[39mdegs), G\u001b[38;5;241m.\u001b[39madj_matrix, \u001b[38;5;241m2\u001b[39m, tol \u001b[38;5;241m=\u001b[39m \u001b[38;5;241m1e-6\u001b[39m, max_iter \u001b[38;5;241m=\u001b[39m \u001b[38;5;241m2000\u001b[39m, matmul \u001b[38;5;241m=\u001b[39m \u001b[38;5;28;01mTrue\u001b[39;00m)\n\u001b[1;32m      4\u001b[0m B \u001b[38;5;241m=\u001b[39m \u001b[38;5;241m0.5\u001b[39m \u001b[38;5;241m*\u001b[39m (np\u001b[38;5;241m.\u001b[39meye(G\u001b[38;5;241m.\u001b[39mn_nodes) \u001b[38;5;241m+\u001b[39m np\u001b[38;5;241m.\u001b[39mdiag(\u001b[38;5;241m1.\u001b[39m \u001b[38;5;241m/\u001b[39m G\u001b[38;5;241m.\u001b[39mdegs)\u001b[38;5;129m@G\u001b[39m\u001b[38;5;241m.\u001b[39madj_matrix)\n\u001b[0;32m----> 5\u001b[0m V \u001b[38;5;241m=\u001b[39m \u001b[43mdegree_normalized_eigenvectors\u001b[49m\u001b[38;5;241;43m.\u001b[39;49m\u001b[43mpower_method\u001b[49m(B, \u001b[38;5;241m2\u001b[39m)\n\u001b[1;32m      6\u001b[0m \u001b[38;5;66;03m#2D graph plot coordinates\u001b[39;00m\n\u001b[1;32m      7\u001b[0m x_coord \u001b[38;5;241m=\u001b[39m U[:, \u001b[38;5;241m0\u001b[39m]\n",
      "\u001b[0;31mAttributeError\u001b[0m: 'function' object has no attribute 'power_method'"
     ]
    }
   ],
   "source": [
    "#Degree normalized eigenvectors\n",
    "U, times = degree_normalized_eigenvectors(np.diag(G.degs), G.adj_matrix, 2, tol = 1e-6, max_iter = 2000, matmul = True)\n",
    "\n",
    "B = 0.5 * (np.eye(G.n_nodes) + np.diag(1. / G.degs)@G.adj_matrix)\n",
    "V = power_method(B, 2)\n",
    "#2D graph plot coordinates\n",
    "x_coord = U[:, 0]\n",
    "y_coord = U[:, 1]\n",
    "x_coord2 = V[:, 0]\n",
    "y_coord2 = V[:, 1]\n",
    "graph_plot(G.adj_matrix, x_coord, y_coord, node_size = 0.01, figsize = (3,3), dpi = 200, add_labels= False)\n",
    "graph_plot(G.adj_matrix, x_coord2, y_coord2, node_size = 0.01, figsize = (3,3), dpi = 200, add_labels= False)\n"
   ]
  },
  {
   "cell_type": "code",
   "execution_count": null,
   "metadata": {
    "scrolled": false
   },
   "outputs": [],
   "source": [
    "#print(x_coord)\n",
    "#print(y_coord)\n",
    "p = 3\n",
    "m = 50\n",
    "V, B, X = hde_spectral_drawing(G, p, m, tol = 1e-10, max_iters = 10000, test = False, use_gershgorin = False)\n",
    "x_coord, y_coord = V[:,0], V[:,1]\n",
    "\n",
    "graph_plot(G.adj_matrix, x_coord, y_coord, node_size = 0.001, figsize = (3,3), add_labels = False)"
   ]
  },
  {
   "cell_type": "code",
   "execution_count": null,
   "metadata": {},
   "outputs": [],
   "source": [
    "B_u, B_s, B_vt = np.linalg.svd(B)\n",
    "x_coord2, y_coord2 = X@B_u[:,0], X@B_u[:,1]\n",
    "print(x_coord2, y_coord2)\n",
    "print(len(x_coord2), len(y_coord2))"
   ]
  },
  {
   "cell_type": "code",
   "execution_count": null,
   "metadata": {},
   "outputs": [],
   "source": [
    "plt.scatter(x_coord2, y_coord2, s = 0.001)"
   ]
  },
  {
   "cell_type": "code",
   "execution_count": null,
   "metadata": {},
   "outputs": [],
   "source": [
    "B = 0.5 * (np.eye(G.n_nodes) + np.diag(1. / G.degs)@G.adj_matrix)"
   ]
  },
  {
   "cell_type": "code",
   "execution_count": null,
   "metadata": {},
   "outputs": [],
   "source": [
    "u, s, vt = np.linalg.svd(B)"
   ]
  },
  {
   "cell_type": "code",
   "execution_count": null,
   "metadata": {},
   "outputs": [],
   "source": [
    "graph_plot(G.adj_matrix, u[:,0], u[:,1], node_size = 0.001, figsize = (3,3), add_labels = False)"
   ]
  },
  {
   "cell_type": "code",
   "execution_count": null,
   "metadata": {},
   "outputs": [],
   "source": []
  }
 ],
 "metadata": {
  "kernelspec": {
   "display_name": "Python 3 (ipykernel)",
   "language": "python",
   "name": "python3"
  },
  "language_info": {
   "codemirror_mode": {
    "name": "ipython",
    "version": 3
   },
   "file_extension": ".py",
   "mimetype": "text/x-python",
   "name": "python",
   "nbconvert_exporter": "python",
   "pygments_lexer": "ipython3",
   "version": "3.10.9"
  },
  "vscode": {
   "interpreter": {
    "hash": "31f2aee4e71d21fbe5cf8b01ff0e069b9275f58929596ceb00d14d90e3e16cd6"
   }
  }
 },
 "nbformat": 4,
 "nbformat_minor": 2
}
