{
 "cells": [
  {
   "cell_type": "code",
   "execution_count": 1,
   "metadata": {},
   "outputs": [],
   "source": [
    "from graph_plot import *\n",
    "from degree_normalized_eigenvectors import *\n",
    "from graph_class import Graph"
   ]
  },
  {
   "cell_type": "code",
   "execution_count": 2,
   "metadata": {},
   "outputs": [
    {
     "name": "stdout",
     "output_type": "stream",
     "text": [
      "[graph object] nodes = 15606; edges = 45878\n"
     ]
    }
   ],
   "source": [
    "# Adjacency matrix\n",
    "A = np.loadtxt('../data/graph.txt')\n",
    "\n",
    "G = Graph()\n",
    "G.set_adj_matrix(A)\n",
    "G.set_degs()\n",
    "# print(G.adj_matrix)\n",
    "# print(G.degs)\n",
    "G.set_laplacian()\n",
    "\n",
    "\n",
    "# print(G.laplacian)\n",
    "\n",
    "# Degree matrix\n",
    "D = np.diag(G.degs)\n",
    "# print(D)\n",
    "\n",
    "# Laplacian matrix\n",
    "L = G.laplacian\n",
    "\n",
    "f = open('../data/4elt.txt')\n",
    "G = Graph(f)\n",
    "print(G)"
   ]
  },
  {
   "cell_type": "code",
   "execution_count": 3,
   "metadata": {},
   "outputs": [
    {
     "name": "stdout",
     "output_type": "stream",
     "text": [
      "Finding  1 -th eigenvector...\n",
      "Convergence reached for eigenvector u^ 2\n",
      "Finding  2 -th eigenvector...\n"
     ]
    },
    {
     "ename": "KeyboardInterrupt",
     "evalue": "",
     "output_type": "error",
     "traceback": [
      "\u001b[0;31m---------------------------------------------------------------------------\u001b[0m",
      "\u001b[0;31mKeyboardInterrupt\u001b[0m                         Traceback (most recent call last)",
      "Cell \u001b[0;32mIn[3], line 2\u001b[0m\n\u001b[1;32m      1\u001b[0m \u001b[38;5;66;03m# Degree normalized eigenvectors\u001b[39;00m\n\u001b[0;32m----> 2\u001b[0m U, times \u001b[38;5;241m=\u001b[39m \u001b[43mdegree_normalized_eigenvectors\u001b[49m\u001b[43m(\u001b[49m\u001b[43mnp\u001b[49m\u001b[38;5;241;43m.\u001b[39;49m\u001b[43mdiag\u001b[49m\u001b[43m(\u001b[49m\u001b[43mG\u001b[49m\u001b[38;5;241;43m.\u001b[39;49m\u001b[43mdegs\u001b[49m\u001b[43m)\u001b[49m\u001b[43m,\u001b[49m\u001b[43m \u001b[49m\u001b[43mG\u001b[49m\u001b[38;5;241;43m.\u001b[39;49m\u001b[43madj_matrix\u001b[49m\u001b[43m,\u001b[49m\u001b[43m \u001b[49m\u001b[38;5;241;43m2\u001b[39;49m\u001b[43m,\u001b[49m\u001b[43m \u001b[49m\u001b[43mtol\u001b[49m\u001b[43m \u001b[49m\u001b[38;5;241;43m=\u001b[39;49m\u001b[43m \u001b[49m\u001b[38;5;241;43m1e-8\u001b[39;49m\u001b[43m,\u001b[49m\u001b[43m \u001b[49m\u001b[43mmax_iter\u001b[49m\u001b[43m \u001b[49m\u001b[38;5;241;43m=\u001b[39;49m\u001b[43m \u001b[49m\u001b[38;5;241;43m5000\u001b[39;49m\u001b[43m,\u001b[49m\u001b[43m \u001b[49m\u001b[43mmatmul\u001b[49m\u001b[43m \u001b[49m\u001b[38;5;241;43m=\u001b[39;49m\u001b[43m \u001b[49m\u001b[38;5;28;43;01mTrue\u001b[39;49;00m\u001b[43m)\u001b[49m\n\u001b[1;32m      3\u001b[0m \u001b[38;5;66;03m# p = 2\u001b[39;00m\n\u001b[1;32m      4\u001b[0m \u001b[38;5;66;03m# m = 50\u001b[39;00m\n\u001b[1;32m      5\u001b[0m \u001b[38;5;66;03m# U = hde_spectral_drawing(G, p, m, tol = 1e-14, max_iters = 100000)\u001b[39;00m\n\u001b[1;32m      6\u001b[0m \n\u001b[1;32m      7\u001b[0m \u001b[38;5;66;03m# 2D graph plot coordinates\u001b[39;00m\n\u001b[1;32m      8\u001b[0m x_coord \u001b[38;5;241m=\u001b[39m U[:, \u001b[38;5;241m0\u001b[39m]\n",
      "File \u001b[0;32m~/cla_project/cla-project-drawing-graphs-by-eigenvectors/src/degree_normalized_eigenvectors.py:154\u001b[0m, in \u001b[0;36mdegree_normalized_eigenvectors\u001b[0;34m(D, A, p, tol, max_iter, matmul, prints)\u001b[0m\n\u001b[1;32m    152\u001b[0m     ul \u001b[38;5;241m=\u001b[39m U[:, l]\n\u001b[1;32m    153\u001b[0m     D_ul \u001b[38;5;241m=\u001b[39m D_diag \u001b[38;5;241m*\u001b[39m ul\n\u001b[0;32m--> 154\u001b[0m     uk \u001b[38;5;241m=\u001b[39m uk \u001b[38;5;241m-\u001b[39m np\u001b[38;5;241m.\u001b[39mdot(uk, D_ul) \u001b[38;5;241m/\u001b[39m np\u001b[38;5;241m.\u001b[39mdot(ul, D_ul) \u001b[38;5;241m*\u001b[39m ul\n\u001b[1;32m    155\u001b[0m     \u001b[38;5;66;03m# old code:\u001b[39;00m\n\u001b[1;32m    156\u001b[0m     \u001b[38;5;66;03m# uk = uk - ((uk.T @ D @ ul) / (ul.T @ D @ ul)) * ul\u001b[39;00m\n\u001b[1;32m    157\u001b[0m t_for_k_1 \u001b[38;5;241m=\u001b[39m time\u001b[38;5;241m.\u001b[39mtime()\n",
      "\u001b[0;31mKeyboardInterrupt\u001b[0m: "
     ]
    }
   ],
   "source": [
    "# Degree normalized eigenvectors\n",
    "#U, times = degree_normalized_eigenvectors(np.diag(G.degs), G.adj_matrix, 2, tol = 1e-8, max_iter = 5000, matmul = True)\n",
    "# p = 2\n",
    "# m = 50\n",
    "# U = hde_spectral_drawing(G, p, m, tol = 1e-14, max_iters = 100000)\n",
    "\n",
    "# 2D graph plot coordinates\n",
    "#x_coord = U[:, 0]\n",
    "#y_coord = U[:, 1]\n",
    "# print(x_coord, y_coord)\n"
   ]
  },
  {
   "cell_type": "code",
   "execution_count": null,
   "metadata": {
    "scrolled": false
   },
   "outputs": [],
   "source": [
    "#print(x_coord)\n",
    "#print(y_coord)\n",
    "aux = np.zeros(shape = (m,m))\n",
    "graph_plot(G.adj_matrix, x_coord, y_coord, node_size = 0.1)"
   ]
  },
  {
   "cell_type": "code",
   "execution_count": null,
   "metadata": {},
   "outputs": [],
   "source": [
    "plt.scatter(x_coord, y_coord, s = 0.5)\n"
   ]
  },
  {
   "cell_type": "code",
   "execution_count": null,
   "metadata": {},
   "outputs": [],
   "source": [
    "x = np.arange(0,6,0.001)\n",
    "y = np.sin(x)\n",
    "plt.scatter(x, y, s = 0.05)"
   ]
  },
  {
   "cell_type": "code",
   "execution_count": null,
   "metadata": {},
   "outputs": [],
   "source": [
    "p = 2\n",
    "m = 1000\n",
    "U = hde_spectral_drawing(G, p, m, tol = 1e-8, max_iters = 5000)"
   ]
  },
  {
   "cell_type": "code",
   "execution_count": null,
   "metadata": {},
   "outputs": [],
   "source": [
    "len(U[:,0])\n",
    "graph_plot(G.adj_matrix, U[:,0], U[:,1], node_size = 0.1)"
   ]
  },
  {
   "cell_type": "code",
   "execution_count": null,
   "metadata": {},
   "outputs": [],
   "source": []
  }
 ],
 "metadata": {
  "kernelspec": {
   "display_name": "Python 3 (ipykernel)",
   "language": "python",
   "name": "python3"
  },
  "language_info": {
   "codemirror_mode": {
    "name": "ipython",
    "version": 3
   },
   "file_extension": ".py",
   "mimetype": "text/x-python",
   "name": "python",
   "nbconvert_exporter": "python",
   "pygments_lexer": "ipython3",
   "version": "3.10.9"
  },
  "vscode": {
   "interpreter": {
    "hash": "31f2aee4e71d21fbe5cf8b01ff0e069b9275f58929596ceb00d14d90e3e16cd6"
   }
  }
 },
 "nbformat": 4,
 "nbformat_minor": 2
}
